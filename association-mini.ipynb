{
 "cells": [
  {
   "cell_type": "markdown",
   "id": "06d9a014",
   "metadata": {},
   "source": [
    "### Step 1: Simulate Transaction Data (with comments)\n",
    "Here we create a dataset of 10 transactions where some items frequently appear together (to ensure association rules can be discovered later)."
   ]
  },
  {
   "cell_type": "code",
   "execution_count": 43,
   "id": "33c1ce7c",
   "metadata": {},
   "outputs": [
    {
     "name": "stdout",
     "output_type": "stream",
     "text": [
      "=== Simulated Transactions ===\n",
      "Transaction 1: ['Bread', 'Milk', 'Eggs']\n",
      "Transaction 2: ['Bread', 'Milk']\n",
      "Transaction 3: ['Bread', 'Milk', 'Butter']\n",
      "Transaction 4: ['Eggs', 'Cheese', 'Butter']\n",
      "Transaction 5: ['Bread', 'Eggs', 'Juice']\n",
      "Transaction 6: ['Milk', 'Cheese']\n",
      "Transaction 7: ['Bread', 'Milk', 'Eggs']\n",
      "Transaction 8: ['Juice', 'Apples']\n",
      "Transaction 9: ['Bread', 'Milk']\n",
      "Transaction 10: ['Eggs', 'Butter']\n"
     ]
    }
   ],
   "source": [
    "import pandas as pd          # Import pandas for data handling\n",
    "import random                # Import random for simulating transactions\n",
    "\n",
    "# Define a pool of 10 unique items that customers can buy\n",
    "items_pool = ['Bread', 'Milk', 'Eggs', 'Butter', 'Cheese',\n",
    "              'Juice', 'Apples', 'Bananas', 'Tomatoes', 'Chicken']\n",
    "\n",
    "# Create 10 transactions manually with overlapping items\n",
    "# For example, 'Bread' and 'Milk' are together in several transactions\n",
    "transactions = [\n",
    "    ['Bread', 'Milk', 'Eggs'],            # Bread + Milk + Eggs\n",
    "    ['Bread', 'Milk'],                     # Bread + Milk again\n",
    "    ['Bread', 'Milk', 'Butter'],           # Bread + Milk + Butter\n",
    "    ['Eggs', 'Cheese', 'Butter'],          # Eggs + Cheese\n",
    "    ['Bread', 'Eggs', 'Juice'],            # Bread + Eggs\n",
    "    ['Milk', 'Cheese'],                    # Milk + Cheese\n",
    "    ['Bread', 'Milk', 'Eggs'],             # Bread + Milk + Eggs again\n",
    "    ['Juice', 'Apples'],                   # Juice + Apples\n",
    "    ['Bread', 'Milk'],                     # Bread + Milk again\n",
    "    ['Eggs', 'Butter']                     # Eggs + Butter\n",
    "]\n",
    "\n",
    "# Display all simulated transactions\n",
    "print(\"=== Simulated Transactions ===\")\n",
    "for idx, t in enumerate(transactions, 1):\n",
    "    print(f\"Transaction {idx}: {t}\")"
   ]
  },
  {
   "cell_type": "markdown",
   "id": "6885d9de",
   "metadata": {},
   "source": []
  },
  {
   "cell_type": "markdown",
   "id": "ca441494",
   "metadata": {},
   "source": [
    "### Convert transactions into a one-hot encoded DataFrame\n",
    "This converts the list of transactions into a one-hot encoded table, where:\n",
    "Rows = transactions\n",
    "Columns = items\n",
    "Value = 1 if the item is in the transaction, 0 otherwise"
   ]
  },
  {
   "cell_type": "code",
   "execution_count": 44,
   "id": "06dfe364",
   "metadata": {},
   "outputs": [
    {
     "name": "stdout",
     "output_type": "stream",
     "text": [
      "\n",
      "=== One-Hot Encoded Transaction Data ===\n",
      "   Bread   Milk   Eggs  Butter  Cheese  Juice  Apples  Bananas  Tomatoes  \\\n",
      "0   True   True   True   False   False  False   False    False     False   \n",
      "1   True   True  False   False   False  False   False    False     False   \n",
      "2   True   True  False    True   False  False   False    False     False   \n",
      "3  False  False   True    True    True  False   False    False     False   \n",
      "4   True  False   True   False   False   True   False    False     False   \n",
      "5  False   True  False   False    True  False   False    False     False   \n",
      "6   True   True   True   False   False  False   False    False     False   \n",
      "7  False  False  False   False   False   True    True    False     False   \n",
      "8   True   True  False   False   False  False   False    False     False   \n",
      "9  False  False   True    True   False  False   False    False     False   \n",
      "\n",
      "   Chicken  \n",
      "0    False  \n",
      "1    False  \n",
      "2    False  \n",
      "3    False  \n",
      "4    False  \n",
      "5    False  \n",
      "6    False  \n",
      "7    False  \n",
      "8    False  \n",
      "9    False  \n"
     ]
    }
   ],
   "source": [
    "# Create a list to hold one-hot encoded rows\n",
    "encoded_rows = []\n",
    "\n",
    "# Loop through each transaction\n",
    "for transaction in transactions:\n",
    "    # For each transaction, create a dictionary where:\n",
    "    # key = item name, value = True (if item is in transaction), False otherwise\n",
    "    row = {item: (item in transaction) for item in items_pool}\n",
    "    encoded_rows.append(row)  # Add this row to the list\n",
    "\n",
    "# Convert the list of dictionaries into a pandas DataFrame\n",
    "encoded_data = pd.DataFrame(encoded_rows)\n",
    "\n",
    "# Display the one-hot encoded DataFrame\n",
    "print(\"\\n=== One-Hot Encoded Transaction Data ===\")\n",
    "print(encoded_data)\n"
   ]
  },
  {
   "cell_type": "markdown",
   "id": "f2da1b9a",
   "metadata": {},
   "source": [
    "###  Step 2: Analyze with Apriori Algorithm\n",
    "Here we use the Apriori algorithm to find frequent itemsets (items or item combinations that occur in at least 30% of the transactions)."
   ]
  },
  {
   "cell_type": "code",
   "execution_count": 45,
   "id": "36983c52",
   "metadata": {},
   "outputs": [
    {
     "name": "stdout",
     "output_type": "stream",
     "text": [
      "\n",
      " Frequent Itemsets (Support >= 30%) \n",
      "   support       itemsets\n",
      "0      0.6        (Bread)\n",
      "1      0.6         (Milk)\n",
      "2      0.5         (Eggs)\n",
      "3      0.3       (Butter)\n",
      "4      0.5  (Milk, Bread)\n",
      "5      0.3  (Eggs, Bread)\n"
     ]
    }
   ],
   "source": [
    "\n",
    "from mlxtend.frequent_patterns import apriori\n",
    "\n",
    "# Apply the Apriori algorithm to find frequent itemsets\n",
    "frequent_itemsets = apriori(\n",
    "    encoded_data,          # The one-hot encoded data\n",
    "    min_support=0.3,       # Minimum support threshold (30%)\n",
    "    use_colnames=True      # Show item names instead of column indices\n",
    ")\n",
    "\n",
    "# Display frequent itemsets\n",
    "print(\"\\n Frequent Itemsets (Support >= 30%) \")\n",
    "print(frequent_itemsets)\n"
   ]
  },
  {
   "cell_type": "markdown",
   "id": "3ba32d56",
   "metadata": {},
   "source": [
    "### Step 3: Generate Association Rules\n",
    "Now we generate association rules from the frequent itemsets, keeping only those with confidence ≥ 70%."
   ]
  },
  {
   "cell_type": "code",
   "execution_count": null,
   "id": "30b3cf39",
   "metadata": {},
   "outputs": [
    {
     "name": "stdout",
     "output_type": "stream",
     "text": [
      "\n",
      "=== Top 2 Association Rules (Confidence >= 70%) ===\n",
      "  antecedents consequents  support  confidence      lift\n",
      "0      (Milk)     (Bread)      0.5    0.833333  1.388889\n",
      "1     (Bread)      (Milk)      0.5    0.833333  1.388889\n",
      "Frequent Itemsets:\n",
      "\n",
      "   support       itemsets\n",
      "0      0.6        (Bread)\n",
      "1      0.3       (Butter)\n",
      "2      0.5         (Eggs)\n",
      "3      0.6         (Milk)\n",
      "4      0.3  (Eggs, Bread)\n",
      "5      0.5  (Milk, Bread)\n",
      "\n",
      "Association Rules:\n",
      "   antecedents consequents  support  confidence      lift\n",
      "0      (Milk)     (Bread)      0.5    0.833333  1.388889\n",
      "1     (Bread)      (Milk)      0.5    0.833333  1.388889\n"
     ]
    }
   ],
   "source": [
    "\n",
    "#  Apriori Algorithm (min_support = 0.3)\n",
    "frequent_itemsets = apriori(df, min_support=0.3, use_colnames=True)\n",
    "from mlxtend.frequent_patterns import association_rules  # Import association rules generator\n",
    "\n",
    "# Generate association rules with confidence >= 70%\n",
    "rules = association_rules(\n",
    "    frequent_itemsets,      # Input: frequent itemsets from Apriori\n",
    "    metric=\"confidence\",    # Use confidence as the metric\n",
    "    min_threshold=0.7       # Minimum confidence threshold: 70%\n",
    ")\n",
    "\n",
    "# Select important columns for display\n",
    "rules_summary = rules[['antecedents', 'consequents', 'support', 'confidence', 'lift']]\n",
    "\n",
    "# Display the top 2 rules\n",
    "print(\"\\n=== Top 2 Association Rules (Confidence >= 70%) ===\")\n",
    "print(rules_summary.head(2))\n",
    "\n",
    "# Generate Rules (confidence ≥ 0.7)\n",
    "rules = association_rules(frequent_itemsets, metric='confidence', min_threshold=0.7)\n",
    "# Show Results\n",
    "print(\"Frequent Itemsets:\\n\")\n",
    "print(frequent_itemsets)\n",
    "print(\"\\nAssociation Rules:\\n\", rules[['antecedents', 'consequents', 'support', 'confidence', 'lift']])"
   ]
  },
  {
   "cell_type": "markdown",
   "id": "effe5cab",
   "metadata": {},
   "source": [
    "\n",
    "##  Explanation of the Association Rule Mining Process\n",
    "\n",
    "This process generates association rules from the frequent itemsets mined earlier. Each rule connects an **antecedent** (the \"if\" part) with a **consequent** (the \"then\" part), showing how likely they are to occur together.\n",
    "\n",
    "---\n",
    "\n",
    "###  Rule 1: *Milk → Bread*\n",
    "\n",
    "**Support**\n",
    "The support of this rule is **0.5**, meaning Milk and Bread appear together in **50% of all transactions**.\n",
    "\n",
    "**Confidence**\n",
    "Confidence measures how often the rule has been found to be true:\n",
    "\n",
    "$$\n",
    "\\text{Confidence} = \\frac{\\text{Support(Milk ∩ Bread)}}{\\text{Support(Milk)}}\n",
    "$$\n",
    "\n",
    "Here:\n",
    "\n",
    "* Support(Milk ∩ Bread) = 0.5 (Milk and Bread together in 50% of transactions)\n",
    "* Support(Milk) = 0.6 (Milk alone in 60% of transactions)\n",
    "\n",
    "$$\n",
    "\\text{Confidence} = \\frac{0.5}{0.6} = 0.83 \\ (83\\%)\n",
    "$$\n",
    "\n",
    "**Interpretation:**\n",
    "When Milk is purchased, Bread is also purchased **83% of the time**. This indicates a strong tendency for these items to be bought together.\n",
    "\n",
    "**Lift**\n",
    "Lift measures how much more likely Bread is to be bought when Milk is bought, compared to Bread being bought at random:\n",
    "\n",
    "$$\n",
    "\\text{Lift} = 1.39\n",
    "$$\n",
    "\n",
    "Since Lift > 1, this is a **positive association**, meaning Milk and Bread are frequently bought together more than expected by chance.\n",
    "\n",
    "---\n",
    "\n",
    "###  Rule 2: *Bread → Milk*\n",
    "\n",
    "**Support**\n",
    "The support of this rule is also **0.5**, meaning Bread and Milk appear together in **50% of transactions**.\n",
    "\n",
    "**Confidence**\n",
    "\n",
    "$$\n",
    "\\text{Confidence} = \\frac{\\text{Support(Bread ∩ Milk)}}{\\text{Support(Bread)}}\n",
    "$$\n",
    "\n",
    "Here:\n",
    "\n",
    "* Support(Bread ∩ Milk) = 0.5 (Bread and Milk together in 50% of transactions)\n",
    "* Support(Bread) = 0.6 (Bread alone in 60% of transactions)\n",
    "\n",
    "$$\n",
    "\\text{Confidence} = \\frac{0.5}{0.6} = 0.83 \\ (83\\%)\n",
    "$$\n",
    "\n",
    "**Interpretation:**\n",
    "When Bread is purchased, Milk is also purchased **83% of the time**.\n",
    "\n",
    "**Lift**\n",
    "As before:\n",
    "\n",
    "$$\n",
    "\\text{Lift} = 1.39\n",
    "$$\n",
    "\n",
    "This means customers who buy Bread are **1.39 times more likely** to also buy Milk compared to random chance.\n",
    "\n",
    "---\n",
    "\n",
    "###  Why Use min\\_threshold=0.7?\n",
    "\n",
    "Setting **min\\_threshold=0.7** ensures that only the **strongest rules** are kept — those that are true at least **70% of the time**. This improves the reliability of discovered patterns by filtering out weak or noisy rules.\n",
    "\n",
    "\n"
   ]
  }
 ],
 "metadata": {
  "kernelspec": {
   "display_name": "base",
   "language": "python",
   "name": "python3"
  },
  "language_info": {
   "codemirror_mode": {
    "name": "ipython",
    "version": 3
   },
   "file_extension": ".py",
   "mimetype": "text/x-python",
   "name": "python",
   "nbconvert_exporter": "python",
   "pygments_lexer": "ipython3",
   "version": "3.11.7"
  }
 },
 "nbformat": 4,
 "nbformat_minor": 5
}
